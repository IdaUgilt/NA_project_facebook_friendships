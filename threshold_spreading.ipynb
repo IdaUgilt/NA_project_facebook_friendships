{
 "cells": [
  {
   "cell_type": "markdown",
   "metadata": {},
   "source": [
    "# Threshold Spreading"
   ]
  },
  {
   "cell_type": "code",
   "execution_count": 189,
   "metadata": {},
   "outputs": [],
   "source": [
    "# Imports\n",
    "\n",
    "import numpy as np\n",
    "import networkx as nx"
   ]
  },
  {
   "cell_type": "code",
   "execution_count": 190,
   "metadata": {},
   "outputs": [
    {
     "name": "stdout",
     "output_type": "stream",
     "text": [
      "Graph with 1429 nodes and 19357 edges\n"
     ]
    }
   ],
   "source": [
    "G = nx.read_edgelist('M1/edges.csv', delimiter = ',')\n",
    "print(G)"
   ]
  },
  {
   "cell_type": "markdown",
   "metadata": {},
   "source": [
    "We first create a function which computes the new infected nodes using threshold reinforcement:"
   ]
  },
  {
   "cell_type": "code",
   "execution_count": 191,
   "metadata": {},
   "outputs": [],
   "source": [
    "# Modified SI function using threshold\n",
    "def new_infected_threshold(G, I, kappa, t):\n",
    "    '''SI function which uses thresholds to determine which new \n",
    "    nodes are infected by their neighbours in one step of the infection process.\n",
    "    \n",
    "    Args:\n",
    "        G (nx.Graph): Graph to perform algorithm on\n",
    "        I (set): Set of already infected nodes\n",
    "        kappa (int): Threshold\n",
    "        t (int): Time step of current infection step\n",
    "\n",
    "    Return:\n",
    "        new_infected (set): Set of newly infected nodes.\n",
    "    '''\n",
    "\n",
    "    # Create a new set of the newly infected nodes\n",
    "    new_infected = set()\n",
    "\n",
    "    # Check if time step t is 1 and set threshold to 1 if true\n",
    "    if t == 1:\n",
    "        kappa = 1\n",
    "\n",
    "    # Iterate over all nodes in the network which are not already infected\n",
    "    for u in set(G.nodes) - I:\n",
    "\n",
    "        # Check if the amount of infected neighbors passes the threshold\n",
    "        if len(set(G.neighbors(u)) & I) >= kappa:\n",
    "            new_infected.add(u)\n",
    "\n",
    "    return new_infected"
   ]
  },
  {
   "cell_type": "markdown",
   "metadata": {},
   "source": [
    "We now create a function to run a complete infection process on the network:"
   ]
  },
  {
   "cell_type": "code",
   "execution_count": 192,
   "metadata": {},
   "outputs": [],
   "source": [
    "def threshold_infection_process(G, s, kappa):\n",
    "    '''Perform SI infection process on a complete network using threshold reinforcement.\n",
    "    \n",
    "    Args:\n",
    "        G (nx.Graph): Graph to perform algorithm on\n",
    "        s (int): Starting node for the infection process\n",
    "        kappa (int): Threshold\n",
    "\n",
    "    Return:\n",
    "        I (set): Set of infected nodes\n",
    "        t (int): Time step reached when spreading stopped\n",
    "    '''\n",
    "\n",
    "    I = {s} # Set of infected nodes, starts with only staring node infected\n",
    "    t = 0 # Initialize time step\n",
    "\n",
    "    # Time step loop, continues until all nodes are infected\n",
    "    while len(I) < len(G.nodes):\n",
    "\n",
    "        # Increment t\n",
    "        t += 1\n",
    "\n",
    "        # Find new infected nodes\n",
    "        new_infected = new_infected_threshold(G, I, kappa, t)\n",
    "\n",
    "        # # Print for debugging\n",
    "        # print(f\"Time step {t}: Newly infected nodes: {new_infected}\")\n",
    "\n",
    "        # Break if no new nodes are infected\n",
    "        if len(new_infected) == 0:\n",
    "            break\n",
    "\n",
    "        # Add new infected nodes to I\n",
    "        I = I.union(new_infected)\n",
    "\n",
    "        # # Print for debugging\n",
    "        # print(f\"Time step {t}: Infected nodes: {I}\")\n",
    "\n",
    "    return I, t"
   ]
  },
  {
   "cell_type": "markdown",
   "metadata": {},
   "source": [
    "We now check the infection results for different values of kappa:"
   ]
  },
  {
   "cell_type": "code",
   "execution_count": 195,
   "metadata": {},
   "outputs": [
    {
     "name": "stdout",
     "output_type": "stream",
     "text": [
      "Kappa = 1:\n",
      "Success rate: 1.0000\n",
      "Average steps taken:\n",
      "Total: 5.1896, Successfull: 5.1896, Failure: 0.0000\n",
      "Best Starting Node(s): ['1', '5', '17', '22', '28', '29', '33', '34', '38', '42', '52', '66', '172', '537', '120', '80', '560', '330', '573', '75', '590', '74', '117', '81', '200', '556', '571', '371', '366', '167', '570', '346', '848', '73', '613', '475', '67', '68', '725', '83', '679', '760', '440', '634', '145', '78', '263', '157', '1310'] with 4 steps taken\n",
      "Worst Starting Node(s): ['906', '1250'] with 7 steps taken \n",
      "\n",
      "Kappa = 2:\n",
      "Success rate: 0.9993\n",
      "Average amount of nodes infected: 1428.0028 / 1429\n",
      "Average steps taken:\n",
      "Total: 6.9405, Successfull: 6.9440, Failure: 2.0000\n",
      "Best Starting Node(s): ['486'] with 2 steps taken\n",
      "Worst Starting Node(s): ['1177', '809'] with 11 steps taken \n",
      "\n",
      "Kappa = 3:\n",
      "Success rate: 0.0000\n",
      "Average amount of nodes infected: 1362.4556 / 1429\n",
      "Average steps taken:\n",
      "Total: 10.5745, Successfull: 0.0000, Failure: 10.5745\n",
      "Best Starting Node(s): ['48', '1296', '1398', '436', '1171', '1197', '1365', '337', '1213', '486', '1397', '1175', '130', '137', '1203', '310', '1391', '1392', '806', '329', '1386', '839', '1317', '1403', '437', '1143', '409', '998', '961', '501', '808', '913', '448', '1369', '1409', '1119', '945', '1200', '1024', '1289', '1413', '1363', '1094', '1146'] with 2 steps taken\n",
      "Worst Starting Node(s): ['1389'] with 17 steps taken \n",
      "\n",
      "Kappa = 4:\n",
      "Success rate: 0.0000\n",
      "Average amount of nodes infected: 1196.8307 / 1429\n",
      "Average steps taken:\n",
      "Total: 12.9741, Successfull: 0.0000, Failure: 12.9741\n",
      "Best Starting Node(s): ['48', '1296', '1398', '1290', '436', '1026', '1181', '1171', '1378', '1039', '1372', '1197', '1365', '1383', '1134', '1013', '216', '337', '1380', '1272', '972', '670', '445', '1050', '1213', '327', '1227', '823', '1178', '486', '1397', '1309', '1182', '1175', '130', '1266', '137', '1334', '748', '1150', '1239', '1203', '1310', '310', '664', '1350', '1299', '1211', '1349', '1021', '1396', '217', '1391', '1392', '1424', '1312', '1280', '1127', '1221', '806', '1389', '329', '580', '1267', '1330', '1268', '1386', '410', '1417', '438', '1408', '922', '1220', '1001', '839', '1317', '814', '1415', '1403', '437', '1143', '409', '998', '1177', '996', '961', '1179', '1176', '807', '501', '809', '808', '913', '442', '448', '1369', '1033', '671', '1409', '888', '890', '1354', '1311', '504', '1119', '1218', '1358', '1428', '1353', '1102', '945', '1201', '1200', '1202', '815', '1024', '1402', '1289', '672', '1382', '1413', '696', '810', '1156', '906', '1363', '783', '794', '1313', '928', '1256', '1412', '1250', '1094', '1325', '1146', '1336', '1243'] with 2 steps taken\n",
      "Worst Starting Node(s): ['61', '488', '487', '1217'] with 21 steps taken \n",
      "\n"
     ]
    },
    {
     "ename": "KeyboardInterrupt",
     "evalue": "",
     "output_type": "error",
     "traceback": [
      "\u001b[0;31m---------------------------------------------------------------------------\u001b[0m",
      "\u001b[0;31mKeyboardInterrupt\u001b[0m                         Traceback (most recent call last)",
      "\u001b[1;32m/Users/sanderengelthilo/Documents/ITU/NA/NA_project_facebook_friendships/threshold_spreading.ipynb Cell 9\u001b[0m line \u001b[0;36m<cell line: 5>\u001b[0;34m()\u001b[0m\n\u001b[1;32m     <a href='vscode-notebook-cell:/Users/sanderengelthilo/Documents/ITU/NA/NA_project_facebook_friendships/threshold_spreading.ipynb#X13sZmlsZQ%3D%3D?line=16'>17</a>\u001b[0m \u001b[39m# Iterate over all possible starting nodes\u001b[39;00m\n\u001b[1;32m     <a href='vscode-notebook-cell:/Users/sanderengelthilo/Documents/ITU/NA/NA_project_facebook_friendships/threshold_spreading.ipynb#X13sZmlsZQ%3D%3D?line=17'>18</a>\u001b[0m \u001b[39mfor\u001b[39;00m s \u001b[39min\u001b[39;00m G\u001b[39m.\u001b[39mnodes:\n\u001b[0;32m---> <a href='vscode-notebook-cell:/Users/sanderengelthilo/Documents/ITU/NA/NA_project_facebook_friendships/threshold_spreading.ipynb#X13sZmlsZQ%3D%3D?line=19'>20</a>\u001b[0m     I, steps_taken \u001b[39m=\u001b[39m threshold_infection_process(G, s, kappa) \u001b[39m# Run infection process\u001b[39;00m\n\u001b[1;32m     <a href='vscode-notebook-cell:/Users/sanderengelthilo/Documents/ITU/NA/NA_project_facebook_friendships/threshold_spreading.ipynb#X13sZmlsZQ%3D%3D?line=20'>21</a>\u001b[0m     success \u001b[39m=\u001b[39m \u001b[39mlen\u001b[39m(I) \u001b[39m==\u001b[39m V \u001b[39m# Keep bool for whether infection was successfull\u001b[39;00m\n\u001b[1;32m     <a href='vscode-notebook-cell:/Users/sanderengelthilo/Documents/ITU/NA/NA_project_facebook_friendships/threshold_spreading.ipynb#X13sZmlsZQ%3D%3D?line=21'>22</a>\u001b[0m     node_results[s] \u001b[39m=\u001b[39m {\u001b[39m'\u001b[39m\u001b[39msuccessfull\u001b[39m\u001b[39m'\u001b[39m: success, \u001b[39m'\u001b[39m\u001b[39msteps_taken\u001b[39m\u001b[39m'\u001b[39m: steps_taken, \u001b[39m'\u001b[39m\u001b[39mamount_infected\u001b[39m\u001b[39m'\u001b[39m: \u001b[39mlen\u001b[39m(I)} \u001b[39m# Add dictionary of results for node s to node_results\u001b[39;00m\n",
      "\u001b[1;32m/Users/sanderengelthilo/Documents/ITU/NA/NA_project_facebook_friendships/threshold_spreading.ipynb Cell 9\u001b[0m line \u001b[0;36mthreshold_infection_process\u001b[0;34m(G, s, kappa)\u001b[0m\n\u001b[1;32m     <a href='vscode-notebook-cell:/Users/sanderengelthilo/Documents/ITU/NA/NA_project_facebook_friendships/threshold_spreading.ipynb#X13sZmlsZQ%3D%3D?line=20'>21</a>\u001b[0m t \u001b[39m+\u001b[39m\u001b[39m=\u001b[39m \u001b[39m1\u001b[39m\n\u001b[1;32m     <a href='vscode-notebook-cell:/Users/sanderengelthilo/Documents/ITU/NA/NA_project_facebook_friendships/threshold_spreading.ipynb#X13sZmlsZQ%3D%3D?line=22'>23</a>\u001b[0m \u001b[39m# Find new infected nodes\u001b[39;00m\n\u001b[0;32m---> <a href='vscode-notebook-cell:/Users/sanderengelthilo/Documents/ITU/NA/NA_project_facebook_friendships/threshold_spreading.ipynb#X13sZmlsZQ%3D%3D?line=23'>24</a>\u001b[0m new_infected \u001b[39m=\u001b[39m new_infected_threshold(G, I, kappa, t)\n\u001b[1;32m     <a href='vscode-notebook-cell:/Users/sanderengelthilo/Documents/ITU/NA/NA_project_facebook_friendships/threshold_spreading.ipynb#X13sZmlsZQ%3D%3D?line=25'>26</a>\u001b[0m \u001b[39m# # Print for debugging\u001b[39;00m\n\u001b[1;32m     <a href='vscode-notebook-cell:/Users/sanderengelthilo/Documents/ITU/NA/NA_project_facebook_friendships/threshold_spreading.ipynb#X13sZmlsZQ%3D%3D?line=26'>27</a>\u001b[0m \u001b[39m# print(f\"Time step {t}: Newly infected nodes: {new_infected}\")\u001b[39;00m\n\u001b[1;32m     <a href='vscode-notebook-cell:/Users/sanderengelthilo/Documents/ITU/NA/NA_project_facebook_friendships/threshold_spreading.ipynb#X13sZmlsZQ%3D%3D?line=27'>28</a>\u001b[0m \n\u001b[1;32m     <a href='vscode-notebook-cell:/Users/sanderengelthilo/Documents/ITU/NA/NA_project_facebook_friendships/threshold_spreading.ipynb#X13sZmlsZQ%3D%3D?line=28'>29</a>\u001b[0m \u001b[39m# Break if no new nodes are infected\u001b[39;00m\n\u001b[1;32m     <a href='vscode-notebook-cell:/Users/sanderengelthilo/Documents/ITU/NA/NA_project_facebook_friendships/threshold_spreading.ipynb#X13sZmlsZQ%3D%3D?line=29'>30</a>\u001b[0m \u001b[39mif\u001b[39;00m \u001b[39mlen\u001b[39m(new_infected) \u001b[39m==\u001b[39m \u001b[39m0\u001b[39m:\n",
      "\u001b[1;32m/Users/sanderengelthilo/Documents/ITU/NA/NA_project_facebook_friendships/threshold_spreading.ipynb Cell 9\u001b[0m line \u001b[0;36mnew_infected_threshold\u001b[0;34m(G, I, kappa, t)\u001b[0m\n\u001b[1;32m     <a href='vscode-notebook-cell:/Users/sanderengelthilo/Documents/ITU/NA/NA_project_facebook_friendships/threshold_spreading.ipynb#X13sZmlsZQ%3D%3D?line=22'>23</a>\u001b[0m \u001b[39m# Iterate over all nodes in the network which are not already infected\u001b[39;00m\n\u001b[1;32m     <a href='vscode-notebook-cell:/Users/sanderengelthilo/Documents/ITU/NA/NA_project_facebook_friendships/threshold_spreading.ipynb#X13sZmlsZQ%3D%3D?line=23'>24</a>\u001b[0m \u001b[39mfor\u001b[39;00m u \u001b[39min\u001b[39;00m \u001b[39mset\u001b[39m(G\u001b[39m.\u001b[39mnodes) \u001b[39m-\u001b[39m I:\n\u001b[1;32m     <a href='vscode-notebook-cell:/Users/sanderengelthilo/Documents/ITU/NA/NA_project_facebook_friendships/threshold_spreading.ipynb#X13sZmlsZQ%3D%3D?line=24'>25</a>\u001b[0m \n\u001b[1;32m     <a href='vscode-notebook-cell:/Users/sanderengelthilo/Documents/ITU/NA/NA_project_facebook_friendships/threshold_spreading.ipynb#X13sZmlsZQ%3D%3D?line=25'>26</a>\u001b[0m     \u001b[39m# Check if the amount of infected neighbors passes the threshold\u001b[39;00m\n\u001b[0;32m---> <a href='vscode-notebook-cell:/Users/sanderengelthilo/Documents/ITU/NA/NA_project_facebook_friendships/threshold_spreading.ipynb#X13sZmlsZQ%3D%3D?line=26'>27</a>\u001b[0m     \u001b[39mif\u001b[39;00m \u001b[39mlen\u001b[39m(\u001b[39mset\u001b[39;49m(G\u001b[39m.\u001b[39;49mneighbors(u)) \u001b[39m&\u001b[39m I) \u001b[39m>\u001b[39m\u001b[39m=\u001b[39m kappa:\n\u001b[1;32m     <a href='vscode-notebook-cell:/Users/sanderengelthilo/Documents/ITU/NA/NA_project_facebook_friendships/threshold_spreading.ipynb#X13sZmlsZQ%3D%3D?line=27'>28</a>\u001b[0m         new_infected\u001b[39m.\u001b[39madd(u)\n\u001b[1;32m     <a href='vscode-notebook-cell:/Users/sanderengelthilo/Documents/ITU/NA/NA_project_facebook_friendships/threshold_spreading.ipynb#X13sZmlsZQ%3D%3D?line=29'>30</a>\u001b[0m \u001b[39mreturn\u001b[39;00m new_infected\n",
      "\u001b[0;31mKeyboardInterrupt\u001b[0m: "
     ]
    }
   ],
   "source": [
    "# Keep list of kappa threshold values\n",
    "thresholds = list(range(1, 11))\n",
    "\n",
    "# Iterate over each threshold value\n",
    "for kappa in thresholds:\n",
    "\n",
    "    node_results = {} # Keep dictionary of results for each node, will be dict of dicts\n",
    "    success_rate = .0 # Ratio of successfull infections\n",
    "    V = len(G.nodes) # Amount of nodes\n",
    "\n",
    "    # Keep track of best and worst starting nodes along with their amounts of steps taken, lower step count = better\n",
    "    best_starting_nodes = [] # Initialize as list to keep option of multiple best starting nodes\n",
    "    best_steps_taken = float('inf') # Initialize with positive infinity\n",
    "    worst_starting_nodes = [] # Initialize as list to keep option of multiple worst starting nodes\n",
    "    worst_steps_taken = 0 # Initialize with 0\n",
    "\n",
    "    # Iterate over all possible starting nodes\n",
    "    for s in G.nodes:\n",
    "        \n",
    "        I, steps_taken = threshold_infection_process(G, s, kappa) # Run infection process\n",
    "        success = len(I) == V # Keep bool for whether infection was successfull\n",
    "        node_results[s] = {'successfull': success, 'steps_taken': steps_taken, 'amount_infected': len(I)} # Add dictionary of results for node s to node_results\n",
    "        success_rate += success / V # Increment success_rate\n",
    "\n",
    "        # Update best and worst starting nodes\n",
    "        if steps_taken == best_steps_taken: # Same as current best, add to list\n",
    "            best_starting_nodes.append(s)\n",
    "        elif steps_taken < best_steps_taken: # Better than current best, remove all others from list\n",
    "            best_starting_nodes = [s]\n",
    "            best_steps_taken = steps_taken\n",
    "\n",
    "        if steps_taken == worst_steps_taken: # Same as current worst, add to list\n",
    "            worst_starting_nodes.append(s)\n",
    "        elif steps_taken > worst_steps_taken: # Worse than current worst, remove all others from list\n",
    "            worst_starting_nodes = [s]\n",
    "            worst_steps_taken = steps_taken\n",
    "\n",
    "    # Compute statistics for the amount of steps taken\n",
    "\n",
    "    # All infection passes\n",
    "    average_steps_total = sum(node_results[u]['steps_taken'] for u in node_results) / V\n",
    "\n",
    "    # Successfull infection passes\n",
    "    steps_taken_successfull = [node_results[u]['steps_taken'] for u in node_results if node_results[u]['successfull']]\n",
    "    if len(steps_taken_successfull) == 0: # If no successfull infections, set average steps taken to 0 to avoid division by 0\n",
    "        average_steps_successfull = 0\n",
    "    else:\n",
    "        average_steps_successfull = sum(steps_taken_successfull) / len(steps_taken_successfull)\n",
    "\n",
    "    # Unsuccessfull infection passes\n",
    "    steps_taken_failure = [node_results[u]['steps_taken'] for u in node_results if not node_results[u]['successfull']]\n",
    "    if len(steps_taken_failure) == 0: # If no failed infections, set average steps taken to 0 to avoid division by 0\n",
    "        average_steps_failure = 0\n",
    "    else:\n",
    "        average_steps_failure = sum(steps_taken_failure) / len(steps_taken_failure)\n",
    "    \n",
    "    # Print statistics\n",
    "\n",
    "    print(f'Kappa = {kappa}:')\n",
    "    print(f'Success rate: {success_rate:.4f}')\n",
    "\n",
    "    if success_rate < 1:\n",
    "        average_nodes_infected = sum(node_results[u]['amount_infected'] for u in node_results) / V\n",
    "        print(f'Average amount of nodes infected: {average_nodes_infected:.4f} / {V}')\n",
    "\n",
    "    print('Average steps taken:')\n",
    "    print(f'Total: {average_steps_total:.4f}, Successfull: {average_steps_successfull:.4f}, Failure: {average_steps_failure:.4f}')\n",
    "\n",
    "    print(f'Best Starting Node(s): {best_starting_nodes} with {best_steps_taken} steps taken')\n",
    "    print(f'Worst Starting Node(s): {worst_starting_nodes} with {worst_steps_taken} steps taken \\n')"
   ]
  }
 ],
 "metadata": {
  "kernelspec": {
   "display_name": "base",
   "language": "python",
   "name": "python3"
  },
  "language_info": {
   "codemirror_mode": {
    "name": "ipython",
    "version": 3
   },
   "file_extension": ".py",
   "mimetype": "text/x-python",
   "name": "python",
   "nbconvert_exporter": "python",
   "pygments_lexer": "ipython3",
   "version": "3.9.12"
  }
 },
 "nbformat": 4,
 "nbformat_minor": 2
}
