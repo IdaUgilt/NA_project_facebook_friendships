{
 "cells": [
  {
   "cell_type": "markdown",
   "metadata": {},
   "source": [
    "# Threshold Spreading"
   ]
  },
  {
   "cell_type": "code",
   "execution_count": 56,
   "metadata": {},
   "outputs": [],
   "source": [
    "# Imports\n",
    "\n",
    "import numpy as np\n",
    "import networkx as nx"
   ]
  },
  {
   "cell_type": "code",
   "execution_count": 57,
   "metadata": {},
   "outputs": [
    {
     "name": "stdout",
     "output_type": "stream",
     "text": [
      "Graph with 1429 nodes and 19357 edges\n"
     ]
    }
   ],
   "source": [
    "G = nx.read_edgelist('M1/edges.csv', delimiter = ',')\n",
    "print(G)"
   ]
  },
  {
   "cell_type": "markdown",
   "metadata": {},
   "source": [
    "We first create a function which computes the new infected nodes using threshold reinforcement:"
   ]
  },
  {
   "cell_type": "code",
   "execution_count": 85,
   "metadata": {},
   "outputs": [],
   "source": [
    "# Modified SI function using threshold\n",
    "def new_infected_threshold(G, I, kappa, t):\n",
    "    '''SI function which uses thresholds to determine which new \n",
    "    nodes are infected by their neighbours in one step of the infection process.\n",
    "    \n",
    "    Args:\n",
    "        G (nx.Graph): Graph to perform algorithm on\n",
    "        I (set): Set of already infected nodes\n",
    "        kappa (int): Threshold\n",
    "        t (int): Time step of current infection step\n",
    "\n",
    "    Return:\n",
    "        new_infected (set): Set of newly infected nodes.\n",
    "    '''\n",
    "\n",
    "    # Create a new set of the newly infected nodes\n",
    "    new_infected = set()\n",
    "\n",
    "    # Check if time step t is 1 and set threshold to 1 if true\n",
    "    if t == 1:\n",
    "        kappa = 1\n",
    "\n",
    "    # Iterate over all nodes in the network which are not already infected\n",
    "    for u in set(G.nodes) - I:\n",
    "\n",
    "        # # Print for debugging\n",
    "        # print(f\"Node {u}: Neighbors: {set(G.neighbors(u))}, Infected: {I}\")\n",
    "\n",
    "        # Check if the amount of infected neighbors passes the threshold\n",
    "        if len(set(G.neighbors(u)) & I) >= kappa:\n",
    "            new_infected.add(u)\n",
    "\n",
    "    return new_infected"
   ]
  },
  {
   "cell_type": "markdown",
   "metadata": {},
   "source": [
    "We now create a function to run a complete infection process on the network:"
   ]
  },
  {
   "cell_type": "code",
   "execution_count": 88,
   "metadata": {},
   "outputs": [],
   "source": [
    "def threshold_infection_process(G, s, kappa):\n",
    "    '''Perform SI infection process on a complete network using threshold reinforcement.\n",
    "    \n",
    "    Args:\n",
    "        G (nx.Graph): Graph to perform algorithm on\n",
    "        s (int): Starting node for the infection process\n",
    "        kappa (int): Threshold\n",
    "\n",
    "    Return:\n",
    "        t (int): Time step reached when spreading stopped\n",
    "        all_infected (bool): Whether all nodes have been infected\n",
    "    '''\n",
    "\n",
    "    I = {s} # Set of infected nodes, starts with only staring node infected\n",
    "    t = 0 # Initialize time step\n",
    "\n",
    "    # Time step loop, continues until all nodes are infected\n",
    "    while len(I) < len(G.nodes):\n",
    "\n",
    "        # Increment t\n",
    "        t += 1\n",
    "\n",
    "        # Find new infected nodes\n",
    "        new_infected = new_infected_threshold(G, I, kappa, t)\n",
    "\n",
    "        # # Print for debugging\n",
    "        # print(f\"Time step {t}: Newly infected nodes: {new_infected}\")\n",
    "\n",
    "        # Break if no new nodes are infected\n",
    "        if len(new_infected) == 0:\n",
    "            break\n",
    "\n",
    "        # Add new infected nodes to I\n",
    "        I = I.union(new_infected)\n",
    "\n",
    "        # # Print for debugging\n",
    "        # print(f\"Time step {t}: Infected nodes: {I}\")\n",
    "\n",
    "    # Keep bool of whether all nodes have been infected\n",
    "    all_infected = (len(I) == len(G.nodes))\n",
    "\n",
    "    return t, all_infected"
   ]
  },
  {
   "cell_type": "markdown",
   "metadata": {},
   "source": [
    "We now check the infection of different values of kappa:"
   ]
  },
  {
   "cell_type": "code",
   "execution_count": 108,
   "metadata": {},
   "outputs": [
    {
     "name": "stdout",
     "output_type": "stream",
     "text": [
      "Kappa 1:\n",
      "Success rate: 1.0000\n",
      "Average steps taken:\n",
      "Total: 5.1896, Successfull: 5.1896, Failure: 0.0000, \n",
      "\n",
      "Kappa 2:\n",
      "Success rate: 0.9993\n",
      "Average steps taken:\n",
      "Total: 6.9405, Successfull: 6.9440, Failure: 2.0000, \n",
      "\n",
      "Kappa 3:\n",
      "Success rate: 0.0000\n",
      "Average steps taken:\n",
      "Total: 10.5745, Successfull: 0.0000, Failure: 10.5745, \n",
      "\n",
      "Kappa 4:\n",
      "Success rate: 0.0000\n",
      "Average steps taken:\n",
      "Total: 12.9741, Successfull: 0.0000, Failure: 12.9741, \n",
      "\n",
      "Kappa 5:\n",
      "Success rate: 0.0000\n",
      "Average steps taken:\n",
      "Total: 11.2883, Successfull: 0.0000, Failure: 11.2883, \n",
      "\n"
     ]
    },
    {
     "ename": "KeyboardInterrupt",
     "evalue": "",
     "output_type": "error",
     "traceback": [
      "\u001b[0;31m---------------------------------------------------------------------------\u001b[0m",
      "\u001b[0;31mKeyboardInterrupt\u001b[0m                         Traceback (most recent call last)",
      "\u001b[1;32m/Users/sanderengelthilo/Documents/ITU/NA/NA_project_facebook_friendships/threshold_spreading.ipynb Cell 9\u001b[0m line \u001b[0;36m<cell line: 5>\u001b[0;34m()\u001b[0m\n\u001b[1;32m     <a href='vscode-notebook-cell:/Users/sanderengelthilo/Documents/ITU/NA/NA_project_facebook_friendships/threshold_spreading.ipynb#X13sZmlsZQ%3D%3D?line=10'>11</a>\u001b[0m \u001b[39m# Iterate over all possible starting nodes\u001b[39;00m\n\u001b[1;32m     <a href='vscode-notebook-cell:/Users/sanderengelthilo/Documents/ITU/NA/NA_project_facebook_friendships/threshold_spreading.ipynb#X13sZmlsZQ%3D%3D?line=11'>12</a>\u001b[0m \u001b[39mfor\u001b[39;00m s \u001b[39min\u001b[39;00m G\u001b[39m.\u001b[39mnodes:\n\u001b[0;32m---> <a href='vscode-notebook-cell:/Users/sanderengelthilo/Documents/ITU/NA/NA_project_facebook_friendships/threshold_spreading.ipynb#X13sZmlsZQ%3D%3D?line=12'>13</a>\u001b[0m     final_step, success \u001b[39m=\u001b[39m threshold_infection_process(G, s, kappa)\n\u001b[1;32m     <a href='vscode-notebook-cell:/Users/sanderengelthilo/Documents/ITU/NA/NA_project_facebook_friendships/threshold_spreading.ipynb#X13sZmlsZQ%3D%3D?line=14'>15</a>\u001b[0m     \u001b[39m# Append the amount of steps used to list depending on whether total infection was successfull\u001b[39;00m\n\u001b[1;32m     <a href='vscode-notebook-cell:/Users/sanderengelthilo/Documents/ITU/NA/NA_project_facebook_friendships/threshold_spreading.ipynb#X13sZmlsZQ%3D%3D?line=15'>16</a>\u001b[0m     \u001b[39mif\u001b[39;00m success:\n",
      "\u001b[1;32m/Users/sanderengelthilo/Documents/ITU/NA/NA_project_facebook_friendships/threshold_spreading.ipynb Cell 9\u001b[0m line \u001b[0;36mthreshold_infection_process\u001b[0;34m(G, s, kappa)\u001b[0m\n\u001b[1;32m     <a href='vscode-notebook-cell:/Users/sanderengelthilo/Documents/ITU/NA/NA_project_facebook_friendships/threshold_spreading.ipynb#X13sZmlsZQ%3D%3D?line=20'>21</a>\u001b[0m t \u001b[39m+\u001b[39m\u001b[39m=\u001b[39m \u001b[39m1\u001b[39m\n\u001b[1;32m     <a href='vscode-notebook-cell:/Users/sanderengelthilo/Documents/ITU/NA/NA_project_facebook_friendships/threshold_spreading.ipynb#X13sZmlsZQ%3D%3D?line=22'>23</a>\u001b[0m \u001b[39m# Find new infected nodes\u001b[39;00m\n\u001b[0;32m---> <a href='vscode-notebook-cell:/Users/sanderengelthilo/Documents/ITU/NA/NA_project_facebook_friendships/threshold_spreading.ipynb#X13sZmlsZQ%3D%3D?line=23'>24</a>\u001b[0m new_infected \u001b[39m=\u001b[39m new_infected_threshold(G, I, kappa, t)\n\u001b[1;32m     <a href='vscode-notebook-cell:/Users/sanderengelthilo/Documents/ITU/NA/NA_project_facebook_friendships/threshold_spreading.ipynb#X13sZmlsZQ%3D%3D?line=25'>26</a>\u001b[0m \u001b[39m# # Print for debugging\u001b[39;00m\n\u001b[1;32m     <a href='vscode-notebook-cell:/Users/sanderengelthilo/Documents/ITU/NA/NA_project_facebook_friendships/threshold_spreading.ipynb#X13sZmlsZQ%3D%3D?line=26'>27</a>\u001b[0m \u001b[39m# print(f\"Time step {t}: Newly infected nodes: {new_infected}\")\u001b[39;00m\n\u001b[1;32m     <a href='vscode-notebook-cell:/Users/sanderengelthilo/Documents/ITU/NA/NA_project_facebook_friendships/threshold_spreading.ipynb#X13sZmlsZQ%3D%3D?line=27'>28</a>\u001b[0m \n\u001b[1;32m     <a href='vscode-notebook-cell:/Users/sanderengelthilo/Documents/ITU/NA/NA_project_facebook_friendships/threshold_spreading.ipynb#X13sZmlsZQ%3D%3D?line=28'>29</a>\u001b[0m \u001b[39m# Break if no new nodes are infected\u001b[39;00m\n\u001b[1;32m     <a href='vscode-notebook-cell:/Users/sanderengelthilo/Documents/ITU/NA/NA_project_facebook_friendships/threshold_spreading.ipynb#X13sZmlsZQ%3D%3D?line=29'>30</a>\u001b[0m \u001b[39mif\u001b[39;00m \u001b[39mlen\u001b[39m(new_infected) \u001b[39m==\u001b[39m \u001b[39m0\u001b[39m:\n",
      "\u001b[1;32m/Users/sanderengelthilo/Documents/ITU/NA/NA_project_facebook_friendships/threshold_spreading.ipynb Cell 9\u001b[0m line \u001b[0;36mnew_infected_threshold\u001b[0;34m(G, I, kappa, t)\u001b[0m\n\u001b[1;32m     <a href='vscode-notebook-cell:/Users/sanderengelthilo/Documents/ITU/NA/NA_project_facebook_friendships/threshold_spreading.ipynb#X13sZmlsZQ%3D%3D?line=22'>23</a>\u001b[0m \u001b[39m# Iterate over all nodes in the network which are not already infected\u001b[39;00m\n\u001b[1;32m     <a href='vscode-notebook-cell:/Users/sanderengelthilo/Documents/ITU/NA/NA_project_facebook_friendships/threshold_spreading.ipynb#X13sZmlsZQ%3D%3D?line=23'>24</a>\u001b[0m \u001b[39mfor\u001b[39;00m u \u001b[39min\u001b[39;00m \u001b[39mset\u001b[39m(G\u001b[39m.\u001b[39mnodes) \u001b[39m-\u001b[39m I:\n\u001b[1;32m     <a href='vscode-notebook-cell:/Users/sanderengelthilo/Documents/ITU/NA/NA_project_facebook_friendships/threshold_spreading.ipynb#X13sZmlsZQ%3D%3D?line=24'>25</a>\u001b[0m \n\u001b[1;32m     <a href='vscode-notebook-cell:/Users/sanderengelthilo/Documents/ITU/NA/NA_project_facebook_friendships/threshold_spreading.ipynb#X13sZmlsZQ%3D%3D?line=25'>26</a>\u001b[0m     \u001b[39m# # Print for debugging\u001b[39;00m\n\u001b[1;32m     <a href='vscode-notebook-cell:/Users/sanderengelthilo/Documents/ITU/NA/NA_project_facebook_friendships/threshold_spreading.ipynb#X13sZmlsZQ%3D%3D?line=26'>27</a>\u001b[0m     \u001b[39m# print(f\"Node {u}: Neighbors: {set(G.neighbors(u))}, Infected: {I}\")\u001b[39;00m\n\u001b[1;32m     <a href='vscode-notebook-cell:/Users/sanderengelthilo/Documents/ITU/NA/NA_project_facebook_friendships/threshold_spreading.ipynb#X13sZmlsZQ%3D%3D?line=27'>28</a>\u001b[0m \n\u001b[1;32m     <a href='vscode-notebook-cell:/Users/sanderengelthilo/Documents/ITU/NA/NA_project_facebook_friendships/threshold_spreading.ipynb#X13sZmlsZQ%3D%3D?line=28'>29</a>\u001b[0m     \u001b[39m# Check if the amount of infected neighbors passes the threshold\u001b[39;00m\n\u001b[0;32m---> <a href='vscode-notebook-cell:/Users/sanderengelthilo/Documents/ITU/NA/NA_project_facebook_friendships/threshold_spreading.ipynb#X13sZmlsZQ%3D%3D?line=29'>30</a>\u001b[0m     \u001b[39mif\u001b[39;00m \u001b[39mlen\u001b[39m(\u001b[39mset\u001b[39;49m(G\u001b[39m.\u001b[39;49mneighbors(u)) \u001b[39m&\u001b[39;49m I) \u001b[39m>\u001b[39m\u001b[39m=\u001b[39m kappa:\n\u001b[1;32m     <a href='vscode-notebook-cell:/Users/sanderengelthilo/Documents/ITU/NA/NA_project_facebook_friendships/threshold_spreading.ipynb#X13sZmlsZQ%3D%3D?line=30'>31</a>\u001b[0m         new_infected\u001b[39m.\u001b[39madd(u)\n\u001b[1;32m     <a href='vscode-notebook-cell:/Users/sanderengelthilo/Documents/ITU/NA/NA_project_facebook_friendships/threshold_spreading.ipynb#X13sZmlsZQ%3D%3D?line=32'>33</a>\u001b[0m \u001b[39mreturn\u001b[39;00m new_infected\n",
      "\u001b[0;31mKeyboardInterrupt\u001b[0m: "
     ]
    }
   ],
   "source": [
    "# Keep list of kappa threshold values\n",
    "thresholds = list(range(1, 6))\n",
    "\n",
    "# Iterate over each threshold value\n",
    "for kappa in thresholds:\n",
    "    steps_used_successfull = [] # List of steps used for each starting node which infected whole G\n",
    "    steps_used_failure = [] # List of steps used for each starting node which did not infected whole G\n",
    "    success_rate = .0 # Ratio of successfull infections\n",
    "    V = len(G.nodes) # Amount of nodes\n",
    "\n",
    "    # Iterate over all possible starting nodes\n",
    "    for s in G.nodes:\n",
    "        final_step, success = threshold_infection_process(G, s, kappa)\n",
    "\n",
    "        # Append the amount of steps used to list depending on whether total infection was successfull\n",
    "        if success:\n",
    "            steps_used_successfull.append(final_step)\n",
    "        else:\n",
    "            steps_used_failure.append(final_step)\n",
    "\n",
    "        # Increment success_rate\n",
    "        success_rate += success / V\n",
    "\n",
    "    # Compute average steps statistics\n",
    "    average_steps_total = sum(steps_used_successfull + steps_used_failure)/len(steps_used_successfull + steps_used_failure)\n",
    "    if len(steps_used_successfull) == 0:\n",
    "        average_steps_successfull = 0\n",
    "    else:\n",
    "        average_steps_successfull = sum(steps_used_successfull)/len(steps_used_successfull)\n",
    "    if len(steps_used_failure) == 0:\n",
    "        average_steps_failure = 0\n",
    "    else:\n",
    "        average_steps_failure = sum(steps_used_failure)/len(steps_used_failure)\n",
    "\n",
    "    print(f'Kappa {kappa}:')\n",
    "    print(f'Success rate: {success_rate:.4f}')\n",
    "    print('Average steps taken:')\n",
    "    print(f'Total: {average_steps_total:.4f}, Successfull: {average_steps_successfull:.4f}, Failure: {average_steps_failure:.4f}, \\n')"
   ]
  }
 ],
 "metadata": {
  "kernelspec": {
   "display_name": "base",
   "language": "python",
   "name": "python3"
  },
  "language_info": {
   "codemirror_mode": {
    "name": "ipython",
    "version": 3
   },
   "file_extension": ".py",
   "mimetype": "text/x-python",
   "name": "python",
   "nbconvert_exporter": "python",
   "pygments_lexer": "ipython3",
   "version": "3.9.12"
  }
 },
 "nbformat": 4,
 "nbformat_minor": 2
}
