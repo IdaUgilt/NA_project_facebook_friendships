{
 "cells": [
  {
   "cell_type": "code",
   "execution_count": 4,
   "metadata": {},
   "outputs": [],
   "source": [
    "import random\n",
    "import networkx as nx\n",
    "import matplotlib.pyplot as plt\n",
    "from collections import defaultdict"
   ]
  },
  {
   "cell_type": "code",
   "execution_count": 5,
   "metadata": {},
   "outputs": [],
   "source": [
    "G = nx.read_edgelist('M1/edges.csv', delimiter = ',')"
   ]
  },
  {
   "cell_type": "code",
   "execution_count": 6,
   "metadata": {},
   "outputs": [],
   "source": [
    "# SI function with thresholds\n",
    "def si_threshold(G, i_nodes, kappa):\n",
    "   new_infected = i_nodes.copy()\n",
    "   s_nodes = set(G.nodes) - i_nodes\n",
    "   for s_node in s_nodes:\n",
    "      if len(set(G.neighbors(s_node)) & i_nodes) >= kappa:\n",
    "         new_infected.add(s_node)\n",
    "   return new_infected"
   ]
  },
  {
   "cell_type": "code",
   "execution_count": 9,
   "metadata": {},
   "outputs": [
    {
     "name": "stderr",
     "output_type": "stream",
     "text": [
      "/var/folders/49/1k50p6kj6d173t0f0hl4h0700000gn/T/ipykernel_47276/134364295.py:5: DeprecationWarning: Sampling from a set deprecated\n",
      "since Python 3.9 and will be removed in a subsequent version.\n",
      "  i_nodes_1 = set(random.sample(set(G.nodes), 10))\n"
     ]
    }
   ],
   "source": [
    "model_curve = defaultdict(lambda : defaultdict(float))\n",
    "for run in range(10):\n",
    "   # The seed set should be the same for the different threshold models\n",
    "   #testing for thershol of 1,2 and 3\n",
    "   i_nodes_1 = set(random.sample(set(G.nodes), 10))\n",
    "   i_nodes_2 = i_nodes_1.copy()\n",
    "   i_nodes_3 = i_nodes_1.copy()\n",
    "   for step in range(50):\n",
    "      i_nodes_1 = si_threshold(G, i_nodes_1, 1) \n",
    "      i_nodes_2 = si_threshold(G, i_nodes_2, 2)\n",
    "      i_nodes_3 = si_threshold(G, i_nodes_3, 4)\n",
    "    \n",
    "      # Since we run 10 times, we average the infected set size\n",
    "      model_curve[\"threshold_1\"][step] += (len(i_nodes_1) / len(G.nodes)) / 10\n",
    "      model_curve[\"threshold_2\"][step] += (len(i_nodes_2) / len(G.nodes)) / 10\n",
    "      model_curve[\"threshold_3\"][step] += (len(i_nodes_3) / len(G.nodes)) / 10\n"
   ]
  },
  {
   "cell_type": "markdown",
   "metadata": {},
   "source": [
    "from the graph we can se what we need to set the threshold as in order to reach the whole popultaion?"
   ]
  },
  {
   "cell_type": "code",
   "execution_count": 10,
   "metadata": {},
   "outputs": [
    {
     "data": {
      "image/png": "[encoded data removed]",
      "text/plain": [
       "<Figure size 640x480 with 1 Axes>"
      ]
     },
     "metadata": {},
     "output_type": "display_data"
    }
   ],
   "source": [
    "\n",
    "plt.plot([model_curve[\"threshold_1\"][step] for step in range(50)], color='red')\n",
    "plt.plot([model_curve[\"threshold_2\"][step] for step in range(50)], color='blue')\n",
    "plt.plot([model_curve[\"threshold_3\"][step] for step in range(50)], color='green')\n",
    "plt.show()"
   ]
  }
 ],
 "metadata": {
  "kernelspec": {
   "display_name": "network",
   "language": "python",
   "name": "python3"
  },
  "language_info": {
   "codemirror_mode": {
    "name": "ipython",
    "version": 3
   },
   "file_extension": ".py",
   "mimetype": "text/x-python",
   "name": "python",
   "nbconvert_exporter": "python",
   "pygments_lexer": "ipython3",
   "version": "3.10.0"
  },
  "orig_nbformat": 4
 },
 "nbformat": 4,
 "nbformat_minor": 2
}
