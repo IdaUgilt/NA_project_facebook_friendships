{
 "cells": [
  {
   "cell_type": "markdown",
   "metadata": {},
   "source": [
    "- define starting node\n",
    "- run spreading model\n",
    "- plot result\n",
    "    "
   ]
  },
  {
   "cell_type": "code",
   "execution_count": 1,
   "metadata": {},
   "outputs": [],
   "source": [
    "import random\n",
    "import networkx as nx\n",
    "import matplotlib.pyplot as plt\n",
    "import pandas as pd\n",
    "import seaborn as sns\n"
   ]
  },
  {
   "cell_type": "code",
   "execution_count": 2,
   "metadata": {},
   "outputs": [],
   "source": [
    "G = nx.read_edgelist('M1/edges.csv', delimiter = ',')"
   ]
  },
  {
   "cell_type": "code",
   "execution_count": 3,
   "metadata": {},
   "outputs": [
    {
     "name": "stdout",
     "output_type": "stream",
     "text": [
      "{67, 996, 70, 1192, 239, 1043, 213, 1239, 60, 799}\n"
     ]
    }
   ],
   "source": [
    "# Specify the number of random nodes you want\n",
    "num_random_nodes = 10  # You can change this number as needed\n",
    "\n",
    "#select one raqndom node:\n",
    "random_node = random.choice([i for i in range(G.number_of_nodes())])\n",
    "\n",
    "# Select multiple random nodes\n",
    "random_nodes = random.sample(range(G.number_of_nodes()), num_random_nodes)\n",
    "\n",
    "random_nodes_set = set(random_nodes)\n",
    "print(random_nodes_set)"
   ]
  },
  {
   "cell_type": "code",
   "execution_count": 4,
   "metadata": {},
   "outputs": [],
   "source": [
    "# Modified SI function using threshold\n",
    "def new_infected_threshold(G, I, kappa, t):\n",
    "    '''SI function which uses thresholds to determine which new \n",
    "    nodes are infected by their neighbours in one step of the infection process.\n",
    "    \n",
    "    Args:\n",
    "        G (nx.Graph): Graph to perform algorithm on\n",
    "        I (set): Set of already infected nodes\n",
    "        kappa (int): Threshold\n",
    "        t (int): Time step of current infection step\n",
    "\n",
    "    Return:\n",
    "        new_infected (set): Set of newly infected nodes.\n",
    "    '''\n",
    "\n",
    "    # Create a new set of the newly infected nodes\n",
    "    new_infected = set()\n",
    "\n",
    "    # Check if time step t is 1 and set threshold to 1 if true\n",
    "    if t == 1:\n",
    "        kappa = 1\n",
    "\n",
    "    # Iterate over all nodes in the network which are not already infected\n",
    "    for u in set(G.nodes) - I:\n",
    "\n",
    "        # Check if the amount of infected neighbors passes the threshold\n",
    "        if len(set(G.neighbors(u)) & I) >= kappa:\n",
    "            new_infected.add(u)\n",
    "\n",
    "    return new_infected"
   ]
  },
  {
   "cell_type": "code",
   "execution_count": 5,
   "metadata": {},
   "outputs": [],
   "source": [
    "def threshold_infection_process(G, s, kappa):\n",
    "    '''Perform SI infection process on a complete network using threshold reinforcement.\n",
    "    \n",
    "    Args:\n",
    "        G (nx.Graph): Graph to perform algorithm on\n",
    "        s (int): Starting node for the infection process\n",
    "        kappa (int): Threshold\n",
    "\n",
    "    Return:\n",
    "        I (set): Set of infected nodes\n",
    "        t (int): Time step reached when spreading stopped\n",
    "    '''\n",
    "\n",
    "    I = {s} # Set of infected nodes, starts with only staring node infected\n",
    "    t = 0 # Initialize time step\n",
    "\n",
    "    # Time step loop, continues until all nodes are infected\n",
    "    while len(I) < len(G.nodes):\n",
    "\n",
    "        # Increment t\n",
    "        t += 1\n",
    "\n",
    "        # Find new infected nodes\n",
    "        new_infected = new_infected_threshold(G, I, kappa, t)\n",
    "\n",
    "        # # Print for debugging\n",
    "        #print(f\"Time step {t}: Newly infected nodes: {new_infected}\")\n",
    "\n",
    "        # Break if no new nodes are infected\n",
    "        if len(new_infected) == 0:\n",
    "            break\n",
    "\n",
    "        # Add new infected nodes to I\n",
    "        I = I.union(new_infected)\n",
    "\n",
    "        # # Print for debugging\n",
    "        # print(f\"Time step {t}: Infected nodes: {I}\")\n",
    "\n",
    "    return I, t"
   ]
  },
  {
   "cell_type": "code",
   "execution_count": 6,
   "metadata": {},
   "outputs": [
    {
     "data": {
      "text/plain": [
       "({1133}, 1)"
      ]
     },
     "execution_count": 6,
     "metadata": {},
     "output_type": "execute_result"
    }
   ],
   "source": [
    "threshold_infection_process(G, random_node, 1)"
   ]
  },
  {
   "cell_type": "code",
   "execution_count": 7,
   "metadata": {},
   "outputs": [],
   "source": [
    "def get_starting_nodes(G, method):  \n",
    "    if method == 'degree':\n",
    "        # Calculate degree centrality\n",
    "        node_dict = nx.degree_centrality(G)\n",
    "    \n",
    "    elif method  == 'closeness':\n",
    "        node_dict = nx.closeness_centrality(G)\n",
    "\n",
    "    elif method == 'betweenness':\n",
    "        node_dict = nx.betweenness_centrality(G)\n",
    "    \n",
    "    elif method  == 'eigenvector':\n",
    "        node_dict = nx.eigenvector_centrality(G)\n",
    "    \n",
    "    elif method == 'katz':\n",
    "        node_dict = nx.katz_centrality(G)\n",
    "    \n",
    "    elif method == 'harmonic':\n",
    "        node_dict = nx.harmonic_centrality(G)\n",
    "    \n",
    "    # Sort the dictionary items in descending order based on centrality values\n",
    "    sorted_nodes = sorted(node_dict.items(), key=lambda x: x[1], reverse=True)\n",
    "        \n",
    "    top_10 = sorted_nodes[:10]\n",
    "        \n",
    "    # Extract only the node IDs from the sorted list\n",
    "    top_10_node_ids = [node for node, _ in top_10]\n",
    "\n",
    "\n",
    "    # Display the node IDs\n",
    "    #print(top_10_node_ids)\n",
    "    #print(top_10)\n",
    "    return top_10_node_ids\n"
   ]
  },
  {
   "cell_type": "code",
   "execution_count": 8,
   "metadata": {},
   "outputs": [
    {
     "data": {
      "text/plain": [
       "['17', '41', '19', '49', '13', '537', '45', '38', '120', '192']"
      ]
     },
     "execution_count": 8,
     "metadata": {},
     "output_type": "execute_result"
    }
   ],
   "source": [
    "get_starting_nodes(G, 'degree')"
   ]
  },
  {
   "cell_type": "code",
   "execution_count": 9,
   "metadata": {},
   "outputs": [],
   "source": [
    "# Create multiple DataFrames\n",
    "data_frames = [\n",
    "    {'T': ['0', '1', '2', '3', '4'],\n",
    "     'IR': [0.1, 0.2, 0.3, 0.6, 0.9]},\n",
    "    \n",
    "    {'T': ['0', '1', '2', '3', '4'],\n",
    "     'IR': [0.2, 0.3, 0.4, 0.6, 0.9]}\n",
    "]\n"
   ]
  },
  {
   "cell_type": "code",
   "execution_count": 14,
   "metadata": {},
   "outputs": [],
   "source": [
    "def plot_methods(data_frames):\n",
    "    methods = ['1', '2']\n",
    "    # Define a custom color palette\n",
    "    custom_palette = ['green', 'hotpink']  # Add more colors if needed\n",
    "    # Create a graph with the different df's\n",
    "    for i, df_data in enumerate(data_frames):\n",
    "        sns.lineplot(data=df_data, x='T', y='IR', label=f'Method {methods[i]}', color=custom_palette[i])   \n"
   ]
  },
  {
   "cell_type": "code",
   "execution_count": 15,
   "metadata": {},
   "outputs": [
    {
     "data": {
      "image/png": "[encoded data removed]",
      "text/plain": [
       "<Figure size 640x480 with 1 Axes>"
      ]
     },
     "metadata": {},
     "output_type": "display_data"
    }
   ],
   "source": [
    "plot_methods(data_frames)"
   ]
  }
 ],
 "metadata": {
  "kernelspec": {
   "display_name": "network",
   "language": "python",
   "name": "python3"
  },
  "language_info": {
   "codemirror_mode": {
    "name": "ipython",
    "version": 3
   },
   "file_extension": ".py",
   "mimetype": "text/x-python",
   "name": "python",
   "nbconvert_exporter": "python",
   "pygments_lexer": "ipython3",
   "version": "3.10.0"
  },
  "orig_nbformat": 4
 },
 "nbformat": 4,
 "nbformat_minor": 2
}
