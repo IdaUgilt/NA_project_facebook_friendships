{
 "cells": [
  {
   "cell_type": "markdown",
   "metadata": {},
   "source": [
    "# Exploratory Data Analysis"
   ]
  },
  {
   "cell_type": "markdown",
   "metadata": {},
   "source": [
    "- Global clustering coefficient\n",
    "- Standard deviation\n",
    "- Random walk mixing time\n",
    "- Assortativity coefficient"
   ]
  },
  {
   "cell_type": "code",
   "execution_count": 1,
   "metadata": {},
   "outputs": [],
   "source": [
    "# Imports\n",
    "\n",
    "import numpy as np\n",
    "import networkx as nx\n",
    "from statistics import stdev"
   ]
  },
  {
   "cell_type": "code",
   "execution_count": 2,
   "metadata": {},
   "outputs": [
    {
     "name": "stdout",
     "output_type": "stream",
     "text": [
      "Graph with 1429 nodes and 19357 edges\n"
     ]
    }
   ],
   "source": [
    "G = nx.read_edgelist('M1/edges.csv', delimiter = ',')\n",
    "print(G)"
   ]
  },
  {
   "cell_type": "markdown",
   "metadata": {},
   "source": [
    "We will first find the global clustering coefficient:"
   ]
  },
  {
   "cell_type": "code",
   "execution_count": 35,
   "metadata": {},
   "outputs": [
    {
     "name": "stdout",
     "output_type": "stream",
     "text": [
      "Global clustering coefficient: 0.2606387109920022\n"
     ]
    }
   ],
   "source": [
    "# Transitivity = global clustering coefficient\n",
    "global_clustering = nx.transitivity(G)\n",
    "print('Global clustering coefficient:', global_clustering)"
   ]
  },
  {
   "cell_type": "markdown",
   "metadata": {},
   "source": [
    "We will next compute the standard deviation:"
   ]
  },
  {
   "cell_type": "code",
   "execution_count": 36,
   "metadata": {},
   "outputs": [
    {
     "name": "stdout",
     "output_type": "stream",
     "text": [
      "Standard deviation of clustering coefficients: 0.19210659033211586\n"
     ]
    }
   ],
   "source": [
    "# Calculate local clustering coefficients\n",
    "local_clustering = nx.clustering(G)\n",
    "\n",
    "# Compute standard deviation of the local clustering coefficients\n",
    "local_clustering_values = list(local_clustering.values())\n",
    "standard_deviation = stdev(local_clustering_values)\n",
    "\n",
    "print('Standard deviation of clustering coefficients:', standard_deviation)"
   ]
  },
  {
   "cell_type": "markdown",
   "metadata": {},
   "source": [
    "We then find the random walk mixing time:"
   ]
  },
  {
   "cell_type": "code",
   "execution_count": 37,
   "metadata": {},
   "outputs": [
    {
     "name": "stdout",
     "output_type": "stream",
     "text": [
      "Random walk mixing time: 0.2992249545530746\n"
     ]
    }
   ],
   "source": [
    "# Calculate the stochastic matrix P\n",
    "P = nx.adjacency_matrix(G) # Initialize P as the adjecency matrix\n",
    "P = P.astype(float).toarray() # Change dtype to float and convert to dense array\n",
    "for row in P:\n",
    "    row /= np.sum(row)\n",
    "\n",
    "# Compute eigenvalues and eigenvectors of the stochastic matrix\n",
    "eigenvalues, eigenvectors = np.linalg.eig(P)\n",
    "\n",
    "# Find the second-largest eigenvalue and its corresponding eigenvector\n",
    "lambda2 = np.sort(eigenvalues)[-2]\n",
    "v2 = eigenvectors[:, np.argsort(eigenvalues)[-2]]\n",
    "\n",
    "# Compute mixing time\n",
    "mixing_time = -1 / np.log(1 - lambda2)\n",
    "\n",
    "print('Random walk mixing time:', mixing_time)"
   ]
  },
  {
   "cell_type": "markdown",
   "metadata": {},
   "source": [
    "Lastly, we will compute the assortativity coefficient:"
   ]
  },
  {
   "cell_type": "code",
   "execution_count": 38,
   "metadata": {},
   "outputs": [
    {
     "name": "stdout",
     "output_type": "stream",
     "text": [
      "Assortativity Coefficient: 0.11231425726944656\n"
     ]
    }
   ],
   "source": [
    "# Compute assortativity coefficient\n",
    "assortativity = nx.degree_assortativity_coefficient(G)\n",
    "print('Assortativity Coefficient:', assortativity)"
   ]
  },
  {
   "cell_type": "code",
   "execution_count": 11,
   "metadata": {},
   "outputs": [
    {
     "name": "stdout",
     "output_type": "stream",
     "text": [
      "average shortest path 3.036131317467505\n",
      "average degree:  27.091672498250524\n",
      "diameter:  7\n"
     ]
    }
   ],
   "source": [
    "avg_shortest_path = nx.average_shortest_path_length(G)\n",
    "print(\"average shortest path\",avg_shortest_path)\n",
    "\n",
    "# Calculate the average degree\n",
    "average_degree = sum(dict(G.degree()).values()) / len(G)\n",
    "print(\"average degree: \", average_degree)\n",
    "\n",
    "# Calculate the diameter\n",
    "diameter = nx.diameter(G)\n",
    "print(\"diameter: \",diameter)"
   ]
  },
  {
   "cell_type": "code",
   "execution_count": 6,
   "metadata": {},
   "outputs": [
    {
     "name": "stdout",
     "output_type": "stream",
     "text": [
      "7\n"
     ]
    }
   ],
   "source": []
  }
 ],
 "metadata": {
  "kernelspec": {
   "display_name": "base",
   "language": "python",
   "name": "python3"
  },
  "language_info": {
   "codemirror_mode": {
    "name": "ipython",
    "version": 3
   },
   "file_extension": ".py",
   "mimetype": "text/x-python",
   "name": "python",
   "nbconvert_exporter": "python",
   "pygments_lexer": "ipython3",
   "version": "3.9.12"
  }
 },
 "nbformat": 4,
 "nbformat_minor": 2
}
