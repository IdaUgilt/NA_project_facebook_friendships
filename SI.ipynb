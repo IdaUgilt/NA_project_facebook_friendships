{
 "cells": [
  {
   "cell_type": "code",
   "execution_count": 1,
   "metadata": {},
   "outputs": [],
   "source": [
    "import random\n",
    "import networkx as nx\n",
    "import matplotlib.pyplot as plt\n",
    "from collections import defaultdict"
   ]
  },
  {
   "cell_type": "code",
   "execution_count": 2,
   "metadata": {},
   "outputs": [
    {
     "name": "stdout",
     "output_type": "stream",
     "text": [
      "Graph with 1429 nodes and 19357 edges\n"
     ]
    }
   ],
   "source": [
    "G = nx.read_edgelist('M1/edges.csv', delimiter = ',')\n",
    "print(G)"
   ]
  },
  {
   "cell_type": "code",
   "execution_count": 3,
   "metadata": {},
   "outputs": [],
   "source": [
    "# Our simple SI function.\n",
    "def si_simple(G, i_nodes, beta):\n",
    "   new_infected = i_nodes.copy()\n",
    "   s_neighbors_of_i = {n for i_node in i_nodes for n in G.neighbors(i_node)}\n",
    "   for s_node in s_neighbors_of_i:\n",
    "      if random.random() < beta:\n",
    "         new_infected.add(s_node)\n",
    "   return new_infected"
   ]
  },
  {
   "cell_type": "code",
   "execution_count": 7,
   "metadata": {},
   "outputs": [],
   "source": [
    "# The cascade SI function. Same as threshold SI, but with a relative threshold.\n",
    "def si_cascade(G, i_nodes, beta):\n",
    "   new_infected = i_nodes.copy()\n",
    "   s_nodes = set(G.nodes) - i_nodes\n",
    "   for s_node in s_nodes:\n",
    "      neighbors = set(G.neighbors(s_node))\n",
    "      if (len(neighbors & i_nodes) / len(neighbors)) >= beta:\n",
    "         new_infected.add(s_node)\n",
    "   return new_infected"
   ]
  },
  {
   "cell_type": "code",
   "execution_count": 4,
   "metadata": {},
   "outputs": [],
   "source": [
    "# We modify our SI function so that it follows the threshold model.\n",
    "def si_threshold(G, i_nodes, kappa):\n",
    "   new_infected = i_nodes.copy()\n",
    "   s_nodes = set(G.nodes) - i_nodes\n",
    "   for s_node in s_nodes:\n",
    "      if len(set(G.neighbors(s_node)) & i_nodes) >= kappa:\n",
    "         new_infected.add(s_node)\n",
    "   return new_infected"
   ]
  },
  {
   "cell_type": "code",
   "execution_count": 21,
   "metadata": {},
   "outputs": [
    {
     "name": "stderr",
     "output_type": "stream",
     "text": [
      "/var/folders/49/1k50p6kj6d173t0f0hl4h0700000gn/T/ipykernel_45617/929800467.py:4: DeprecationWarning: Sampling from a set deprecated\n",
      "since Python 3.9 and will be removed in a subsequent version.\n",
      "  i_nodes_simple = set(random.sample(set(G.nodes), 10))\n"
     ]
    }
   ],
   "source": [
    "model_curve = defaultdict(lambda : defaultdict(float))\n",
    "for run in range(10):\n",
    "   # The seed set should be the same for all models\n",
    "   i_nodes_simple = set(random.sample(set(G.nodes), 10))\n",
    "   i_nodes_threshold = i_nodes_simple.copy()\n",
    "   i_nodes_cascade = i_nodes_simple.copy()\n",
    "   for step in range(50):\n",
    "      i_nodes_simple = si_simple(G, i_nodes_simple, 0.1)\n",
    "      i_nodes_threshold = si_threshold(G, i_nodes_threshold, 2)\n",
    "      i_nodes_cascade = si_cascade(G, i_nodes_cascade, 0.1)\n",
    "      # Since we run 10 times, we average the infected set size\n",
    "      model_curve[\"simple\"][step] += (len(i_nodes_simple) / len(G.nodes)) / 10\n",
    "      model_curve[\"threshold\"][step] += (len(i_nodes_threshold) / len(G.nodes)) / 10\n",
    "      model_curve[\"cascade\"][step] += (len(i_nodes_cascade) / len(G.nodes)) / 10"
   ]
  },
  {
   "cell_type": "code",
   "execution_count": 22,
   "metadata": {},
   "outputs": [
    {
     "data": {
      "image/png": "[encoded data removed]",
      "text/plain": [
       "<Figure size 640x480 with 1 Axes>"
      ]
     },
     "metadata": {},
     "output_type": "display_data"
    }
   ],
   "source": [
    "plt.plot([model_curve[\"simple\"][step] for step in range(50)],label='Simple Model', color='blue')\n",
    "plt.plot([model_curve[\"threshold\"][step] for step in range(50)],label='threshold Model', color='red')\n",
    "plt.plot([model_curve[\"cascade\"][step] for step in range(50)],label='cascade Model', color='pink')\n",
    "plt.show()"
   ]
  }
 ],
 "metadata": {
  "kernelspec": {
   "display_name": "network",
   "language": "python",
   "name": "python3"
  },
  "language_info": {
   "codemirror_mode": {
    "name": "ipython",
    "version": 3
   },
   "file_extension": ".py",
   "mimetype": "text/x-python",
   "name": "python",
   "nbconvert_exporter": "python",
   "pygments_lexer": "ipython3",
   "version": "3.10.0"
  },
  "orig_nbformat": 4
 },
 "nbformat": 4,
 "nbformat_minor": 2
}
