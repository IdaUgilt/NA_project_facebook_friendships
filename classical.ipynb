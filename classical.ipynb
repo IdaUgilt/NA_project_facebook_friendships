{
 "cells": [
  {
   "cell_type": "code",
   "execution_count": 8,
   "metadata": {},
   "outputs": [],
   "source": [
    "import random\n",
    "import networkx as nx\n",
    "import matplotlib.pyplot as plt"
   ]
  },
  {
   "cell_type": "markdown",
   "metadata": {},
   "source": [
    "If you have n sick friends, and you visit them one by one, at each visit you toss a coin\n",
    "- β :probability of being infected by a single contact\n",
    "-  (1 − β) is the probability of not being infected\n",
    "-  (1 − β)^n: prob of never being infected by any of the n contacts\n",
    "- 1 − ((1 − β)n)probability that at least one contact will infect us."
   ]
  },
  {
   "cell_type": "markdown",
   "metadata": {},
   "source": [
    "EXample: The healthy individ- ual has four neighbors, all of which are infected. Thus she has to make four independent coin tosses, each of which has β chance to succeed"
   ]
  },
  {
   "cell_type": "markdown",
   "metadata": {},
   "source": [
    "In classical complex SI, you have 1 − ((1 − β)^n ) probability of being infected"
   ]
  },
  {
   "cell_type": "code",
   "execution_count": 9,
   "metadata": {},
   "outputs": [],
   "source": [
    "G = nx.read_edgelist('M1/edges.csv', delimiter = ',')"
   ]
  },
  {
   "cell_type": "code",
   "execution_count": 10,
   "metadata": {},
   "outputs": [],
   "source": [
    "def new_infected_classical(G, I, beta):\n",
    "    '''SI function which uses classical reinforcement to determine which new \n",
    "    nodes are infected by their neighbours in one step of the infection process.\n",
    "    \n",
    "    Args:\n",
    "        G (nx.Graph): Graph to perform algorithm on\n",
    "        I (set): Set of already infected nodes\n",
    "        Beta (float): Infection probability for a single contact\n",
    "\n",
    "    Return:\n",
    "        new_infected (set): Set of newly infected nodes.\n",
    "    '''\n",
    "\n",
    "    # Create a new set of the newly infected nodes\n",
    "    new_infected = set()\n",
    "\n",
    "    #iterate over all nodes that are not infected yet\n",
    "    for u in set(G.nodes) - I:\n",
    "\n",
    "        # Check if the node gets infected\n",
    "        n = len(set(G.neighbors(u)) & I) # Amount of infected neighbors\n",
    "        if random.random() > 1 - (1 - beta) ** n:\n",
    "            new_infected.add(u)       \n",
    "\n",
    "    return new_infected"
   ]
  },
  {
   "cell_type": "code",
   "execution_count": null,
   "metadata": {},
   "outputs": [],
   "source": [
    "\n"
   ]
  },
  {
   "cell_type": "code",
   "execution_count": 11,
   "metadata": {},
   "outputs": [],
   "source": [
    "def classical_infection_process(G, s, beta):\n",
    "    I = {s}  # Set of infected nodes, starts with only the starting node infected\n",
    "    t = 0  # Initialize\n",
    "\n",
    "    while len(I) < len(G.nodes):\n",
    "        t += 1\n",
    "\n",
    "        #print(f\"Step {t}: Infected nodes: {len(I)}\")\n",
    "        \n",
    "        # Call the infection function for each node\n",
    "        new_infected = new_infected_classical(G, I, beta)\n",
    "        \n",
    "        #print(f\"Step {t}: Newly infected nodes: {len(new_infected)}\")\n",
    "\n",
    "        # Update the set of infected nodes\n",
    "        I = I.union(new_infected)\n",
    "\n",
    "    all_infected = (len(I) == len(G.nodes))\n",
    "    print(f\"Total steps: {t}\")\n",
    "    return all_infected, t\n"
   ]
  },
  {
   "cell_type": "code",
   "execution_count": 19,
   "metadata": {},
   "outputs": [
    {
     "name": "stdout",
     "output_type": "stream",
     "text": [
      "Total steps: 14192\n"
     ]
    },
    {
     "data": {
      "text/plain": [
       "(True, 14192)"
      ]
     },
     "execution_count": 19,
     "metadata": {},
     "output_type": "execute_result"
    }
   ],
   "source": [
    "# for s in G.nodes:\n",
    "classical_infection_process(G, '150', 0.1)\n",
    "#len(G.nodes)"
   ]
  },
  {
   "cell_type": "code",
   "execution_count": null,
   "metadata": {},
   "outputs": [],
   "source": []
  }
 ],
 "metadata": {
  "kernelspec": {
   "display_name": "network",
   "language": "python",
   "name": "python3"
  },
  "language_info": {
   "codemirror_mode": {
    "name": "ipython",
    "version": 3
   },
   "file_extension": ".py",
   "mimetype": "text/x-python",
   "name": "python",
   "nbconvert_exporter": "python",
   "pygments_lexer": "ipython3",
   "version": "3.10.0"
  },
  "orig_nbformat": 4
 },
 "nbformat": 4,
 "nbformat_minor": 2
}
