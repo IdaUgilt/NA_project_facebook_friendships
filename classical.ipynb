{
 "cells": [
  {
   "cell_type": "code",
   "execution_count": 1,
   "metadata": {},
   "outputs": [],
   "source": [
    "import random\n",
    "import networkx as nx\n",
    "import matplotlib.pyplot as plt"
   ]
  },
  {
   "cell_type": "markdown",
   "metadata": {},
   "source": [
    "If you have n sick friends, and you visit them one by one, at each visit you toss a coin\n",
    "- β :probability of being infected by a single contact\n",
    "-  (1 − β) is the probability of not being infected\n",
    "-  (1 − β)^n: prob of never being infected by any of the n contacts\n",
    "- 1 − ((1 − β)n)probability that at least one contact will infect us."
   ]
  },
  {
   "cell_type": "code",
   "execution_count": 2,
   "metadata": {},
   "outputs": [],
   "source": [
    "G = nx.read_edgelist('M1/edges.csv', delimiter = ',')"
   ]
  },
  {
   "cell_type": "markdown",
   "metadata": {},
   "source": [
    "EXample: The healthy individ- ual has four neighbors, all of which are infected. Thus she has to make four independent coin tosses, each of which has β chance to succeed"
   ]
  },
  {
   "cell_type": "markdown",
   "metadata": {},
   "source": [
    "In classical complex SI, you have 1 − ((1 − β)^n ) probability of being infected"
   ]
  },
  {
   "cell_type": "markdown",
   "metadata": {},
   "source": []
  },
  {
   "cell_type": "code",
   "execution_count": 12,
   "metadata": {},
   "outputs": [],
   "source": [
    "import networkx as nx\n",
    "import random\n",
    "\n",
    "def new_infected_classical(G, I, beta):\n",
    "    '''SI function which uses classical reinforcement to determine which new \n",
    "    nodes are infected by their neighbours in one step of the infection process.\n",
    "    \n",
    "    Args:\n",
    "        G (nx.Graph): Graph to perform algorithm on\n",
    "        I (set): Set of already infected nodes\n",
    "        beta (float): Infection probability for a single contact\n",
    "        t (int): Time step\n",
    "\n",
    "    Return:\n",
    "        new_infected (set): Set of newly infected nodes.\n",
    "    '''\n",
    "\n",
    "    # Create a new set of the newly infected nodes\n",
    "    new_infected = set()\n",
    "\n",
    "    # def reinforcement_prob(u, t, I):\n",
    "    #     if t == 1:\n",
    "    #         return 1\n",
    "    #     else:\n",
    "    #         n = len(set(G.neighbors(u)) & I) # Amount of infected neighbors\n",
    "    #         return 1 - (1 - beta) ** n\n",
    "\n",
    "    # Iterate over all nodes in the network which are not already infected\n",
    "    for u in set(G.nodes) - I:\n",
    "\n",
    "        # Check if the node gets infected\n",
    "        n = len(set(G.neighbors(u)) & I) # Amount of infected neighbors\n",
    "        if random.random() > 1 - (1 - beta) ** n:\n",
    "            new_infected.add(u)       \n",
    "\n",
    "    return new_infected\n"
   ]
  },
  {
   "cell_type": "code",
   "execution_count": null,
   "metadata": {},
   "outputs": [],
   "source": []
  },
  {
   "cell_type": "code",
   "execution_count": 3,
   "metadata": {},
   "outputs": [],
   "source": [
    "# Modified SI function using classical reinforcement\n",
    "\n",
    "def classical():\n",
    "    \n",
    "\n",
    "\n",
    "\n",
    "    \n",
    "    \n",
    "    return\n",
    "\n",
    "\n",
    "    \n",
    "\n",
    "     \n",
    "\n",
    "\n"
   ]
  }
 ],
 "metadata": {
  "kernelspec": {
   "display_name": "network",
   "language": "python",
   "name": "python3"
  },
  "language_info": {
   "codemirror_mode": {
    "name": "ipython",
    "version": 3
   },
   "file_extension": ".py",
   "mimetype": "text/x-python",
   "name": "python",
   "nbconvert_exporter": "python",
   "pygments_lexer": "ipython3",
   "version": "3.10.0"
  },
  "orig_nbformat": 4
 },
 "nbformat": 4,
 "nbformat_minor": 2
}
