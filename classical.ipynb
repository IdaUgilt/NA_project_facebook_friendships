{
 "cells": [
  {
   "cell_type": "code",
   "execution_count": 1,
   "metadata": {},
   "outputs": [],
   "source": [
    "import random\n",
    "import networkx as nx\n",
    "import matplotlib.pyplot as plt"
   ]
  },
  {
   "cell_type": "markdown",
   "metadata": {},
   "source": [
    "If you have n sick friends, and you visit them one by one, at each visit you toss a coin\n",
    "- β :probability of being infected by a single contact\n",
    "-  (1 − β) is the probability of not being infected\n",
    "-  (1 − β)^n: prob of never being infected by any of the n contacts\n",
    "- 1 − ((1 − β)n)probability that at least one contact will infect us."
   ]
  },
  {
   "cell_type": "markdown",
   "metadata": {},
   "source": [
    "EXample: The healthy individ- ual has four neighbors, all of which are infected. Thus she has to make four independent coin tosses, each of which has β chance to succeed"
   ]
  },
  {
   "cell_type": "markdown",
   "metadata": {},
   "source": [
    "In classical complex SI, you have 1 − ((1 − β)^n ) probability of being infected"
   ]
  },
  {
   "cell_type": "code",
   "execution_count": 2,
   "metadata": {},
   "outputs": [],
   "source": [
    "G = nx.read_edgelist('M1/edges.csv', delimiter = ',')"
   ]
  },
  {
   "cell_type": "code",
   "execution_count": 3,
   "metadata": {},
   "outputs": [],
   "source": [
    "def new_infected_classical(G, I, beta):\n",
    "    '''SI function which uses classical reinforcement to determine which new \n",
    "    nodes are infected by their neighbours in one step of the infection process.\n",
    "    \n",
    "    Args:\n",
    "        G (nx.Graph): Graph to perform algorithm on\n",
    "        I (set): Set of already infected nodes\n",
    "        Beta (float): Infection probability for a single contact\n",
    "\n",
    "    Return:\n",
    "        new_infected (set): Set of newly infected nodes.\n",
    "    '''\n",
    "\n",
    "    # Create a new set of the newly infected nodes\n",
    "    new_infected = set()\n",
    "\n",
    "    #iterate over all nodes that are not infected yet\n",
    "    for u in set(G.nodes) - I:\n",
    "\n",
    "        # Check if the node gets infected\n",
    "        n = len(set(G.neighbors(u)) & I) # Amount of infected neighbors\n",
    "        if random.random() > 1 - (1 - beta) ** n:\n",
    "            new_infected.add(u)       \n",
    "\n",
    "    return new_infected"
   ]
  },
  {
   "cell_type": "code",
   "execution_count": null,
   "metadata": {},
   "outputs": [],
   "source": [
    "\n"
   ]
  },
  {
   "cell_type": "code",
   "execution_count": 4,
   "metadata": {},
   "outputs": [],
   "source": [
    "def classical_infection_process(G, s, beta):\n",
    "    I = {s}  # Set of infected nodes, starts with only the starting node infected\n",
    "    t = 0  # Initialize\n",
    "\n",
    "    while len(I) < len(G.nodes):\n",
    "        t += 1\n",
    "\n",
    "        #print(f\"Step {t}: Infected nodes: {len(I)}\")\n",
    "        \n",
    "        # Call the infection function for each node\n",
    "        new_infected = new_infected_classical(G, I, beta)\n",
    "        \n",
    "        #print(f\"Step {t}: Newly infected nodes: {len(new_infected)}\")\n",
    "\n",
    "        # Update the set of infected nodes\n",
    "        I = I.union(new_infected)\n",
    "\n",
    "    all_infected = (len(I) == len(G.nodes))\n",
    "    print(f\"Total steps: {t}\")\n",
    "    return all_infected, t\n"
   ]
  },
  {
   "cell_type": "code",
   "execution_count": 5,
   "metadata": {},
   "outputs": [
    {
     "name": "stdout",
     "output_type": "stream",
     "text": [
      "Total steps: 20565\n"
     ]
    },
    {
     "data": {
      "text/plain": [
       "(True, 20565)"
      ]
     },
     "execution_count": 5,
     "metadata": {},
     "output_type": "execute_result"
    }
   ],
   "source": [
    "# for s in G.nodes:\n",
    "classical_infection_process(G, '150', 0.1)\n",
    "#len(G.nodes)"
   ]
  },
  {
   "cell_type": "code",
   "execution_count": 6,
   "metadata": {},
   "outputs": [
    {
     "name": "stdout",
     "output_type": "stream",
     "text": [
      "Total steps: 1523\n"
     ]
    },
    {
     "ename": "KeyboardInterrupt",
     "evalue": "",
     "output_type": "error",
     "traceback": [
      "\u001b[0;31m---------------------------------------------------------------------------\u001b[0m",
      "\u001b[0;31mKeyboardInterrupt\u001b[0m                         Traceback (most recent call last)",
      "\u001b[1;32m/Users/juliehagen/Library/CloudStorage/OneDrive-ITU/Network_analysis/NA_project_facebook_friendships/classical.ipynb Cell 10\u001b[0m line \u001b[0;36m2\n\u001b[1;32m     <a href='vscode-notebook-cell:/Users/juliehagen/Library/CloudStorage/OneDrive-ITU/Network_analysis/NA_project_facebook_friendships/classical.ipynb#X30sZmlsZQ%3D%3D?line=17'>18</a>\u001b[0m     \u001b[39mreturn\u001b[39;00m best_seed, least_average_steps\n\u001b[1;32m     <a href='vscode-notebook-cell:/Users/juliehagen/Library/CloudStorage/OneDrive-ITU/Network_analysis/NA_project_facebook_friendships/classical.ipynb#X30sZmlsZQ%3D%3D?line=19'>20</a>\u001b[0m beta \u001b[39m=\u001b[39m \u001b[39m0.1\u001b[39m\n\u001b[0;32m---> <a href='vscode-notebook-cell:/Users/juliehagen/Library/CloudStorage/OneDrive-ITU/Network_analysis/NA_project_facebook_friendships/classical.ipynb#X30sZmlsZQ%3D%3D?line=21'>22</a>\u001b[0m best_seed, least_average_steps \u001b[39m=\u001b[39m find_least_average_steps(G, beta)\n",
      "\u001b[1;32m/Users/juliehagen/Library/CloudStorage/OneDrive-ITU/Network_analysis/NA_project_facebook_friendships/classical.ipynb Cell 10\u001b[0m line \u001b[0;36m9\n\u001b[1;32m      <a href='vscode-notebook-cell:/Users/juliehagen/Library/CloudStorage/OneDrive-ITU/Network_analysis/NA_project_facebook_friendships/classical.ipynb#X30sZmlsZQ%3D%3D?line=5'>6</a>\u001b[0m total_steps \u001b[39m=\u001b[39m \u001b[39m0\u001b[39m\n\u001b[1;32m      <a href='vscode-notebook-cell:/Users/juliehagen/Library/CloudStorage/OneDrive-ITU/Network_analysis/NA_project_facebook_friendships/classical.ipynb#X30sZmlsZQ%3D%3D?line=7'>8</a>\u001b[0m \u001b[39mfor\u001b[39;00m _ \u001b[39min\u001b[39;00m \u001b[39mrange\u001b[39m(\u001b[39m10\u001b[39m):  \u001b[39m# Run the infection process multiple times for better accuracy\u001b[39;00m\n\u001b[0;32m----> <a href='vscode-notebook-cell:/Users/juliehagen/Library/CloudStorage/OneDrive-ITU/Network_analysis/NA_project_facebook_friendships/classical.ipynb#X30sZmlsZQ%3D%3D?line=8'>9</a>\u001b[0m     _, steps \u001b[39m=\u001b[39m classical_infection_process(G, seed_node, beta)\n\u001b[1;32m     <a href='vscode-notebook-cell:/Users/juliehagen/Library/CloudStorage/OneDrive-ITU/Network_analysis/NA_project_facebook_friendships/classical.ipynb#X30sZmlsZQ%3D%3D?line=9'>10</a>\u001b[0m     total_steps \u001b[39m+\u001b[39m\u001b[39m=\u001b[39m steps\n\u001b[1;32m     <a href='vscode-notebook-cell:/Users/juliehagen/Library/CloudStorage/OneDrive-ITU/Network_analysis/NA_project_facebook_friendships/classical.ipynb#X30sZmlsZQ%3D%3D?line=11'>12</a>\u001b[0m average_steps \u001b[39m=\u001b[39m total_steps \u001b[39m/\u001b[39m \u001b[39m10\u001b[39m  \u001b[39m# Calculate the average steps over 10 runs\u001b[39;00m\n",
      "\u001b[1;32m/Users/juliehagen/Library/CloudStorage/OneDrive-ITU/Network_analysis/NA_project_facebook_friendships/classical.ipynb Cell 10\u001b[0m line \u001b[0;36m1\n\u001b[1;32m      <a href='vscode-notebook-cell:/Users/juliehagen/Library/CloudStorage/OneDrive-ITU/Network_analysis/NA_project_facebook_friendships/classical.ipynb#X30sZmlsZQ%3D%3D?line=5'>6</a>\u001b[0m t \u001b[39m+\u001b[39m\u001b[39m=\u001b[39m \u001b[39m1\u001b[39m\n\u001b[1;32m      <a href='vscode-notebook-cell:/Users/juliehagen/Library/CloudStorage/OneDrive-ITU/Network_analysis/NA_project_facebook_friendships/classical.ipynb#X30sZmlsZQ%3D%3D?line=7'>8</a>\u001b[0m \u001b[39m#print(f\"Step {t}: Infected nodes: {len(I)}\")\u001b[39;00m\n\u001b[1;32m      <a href='vscode-notebook-cell:/Users/juliehagen/Library/CloudStorage/OneDrive-ITU/Network_analysis/NA_project_facebook_friendships/classical.ipynb#X30sZmlsZQ%3D%3D?line=8'>9</a>\u001b[0m \n\u001b[1;32m     <a href='vscode-notebook-cell:/Users/juliehagen/Library/CloudStorage/OneDrive-ITU/Network_analysis/NA_project_facebook_friendships/classical.ipynb#X30sZmlsZQ%3D%3D?line=9'>10</a>\u001b[0m \u001b[39m# Call the infection function for each node\u001b[39;00m\n\u001b[0;32m---> <a href='vscode-notebook-cell:/Users/juliehagen/Library/CloudStorage/OneDrive-ITU/Network_analysis/NA_project_facebook_friendships/classical.ipynb#X30sZmlsZQ%3D%3D?line=10'>11</a>\u001b[0m new_infected \u001b[39m=\u001b[39m new_infected_classical(G, I, beta)\n\u001b[1;32m     <a href='vscode-notebook-cell:/Users/juliehagen/Library/CloudStorage/OneDrive-ITU/Network_analysis/NA_project_facebook_friendships/classical.ipynb#X30sZmlsZQ%3D%3D?line=12'>13</a>\u001b[0m \u001b[39m#print(f\"Step {t}: Newly infected nodes: {len(new_infected)}\")\u001b[39;00m\n\u001b[1;32m     <a href='vscode-notebook-cell:/Users/juliehagen/Library/CloudStorage/OneDrive-ITU/Network_analysis/NA_project_facebook_friendships/classical.ipynb#X30sZmlsZQ%3D%3D?line=13'>14</a>\u001b[0m \n\u001b[1;32m     <a href='vscode-notebook-cell:/Users/juliehagen/Library/CloudStorage/OneDrive-ITU/Network_analysis/NA_project_facebook_friendships/classical.ipynb#X30sZmlsZQ%3D%3D?line=14'>15</a>\u001b[0m \u001b[39m# Update the set of infected nodes\u001b[39;00m\n\u001b[1;32m     <a href='vscode-notebook-cell:/Users/juliehagen/Library/CloudStorage/OneDrive-ITU/Network_analysis/NA_project_facebook_friendships/classical.ipynb#X30sZmlsZQ%3D%3D?line=15'>16</a>\u001b[0m I \u001b[39m=\u001b[39m I\u001b[39m.\u001b[39munion(new_infected)\n",
      "\u001b[1;32m/Users/juliehagen/Library/CloudStorage/OneDrive-ITU/Network_analysis/NA_project_facebook_friendships/classical.ipynb Cell 10\u001b[0m line \u001b[0;36m1\n\u001b[1;32m     <a href='vscode-notebook-cell:/Users/juliehagen/Library/CloudStorage/OneDrive-ITU/Network_analysis/NA_project_facebook_friendships/classical.ipynb#X30sZmlsZQ%3D%3D?line=14'>15</a>\u001b[0m new_infected \u001b[39m=\u001b[39m \u001b[39mset\u001b[39m()\n\u001b[1;32m     <a href='vscode-notebook-cell:/Users/juliehagen/Library/CloudStorage/OneDrive-ITU/Network_analysis/NA_project_facebook_friendships/classical.ipynb#X30sZmlsZQ%3D%3D?line=16'>17</a>\u001b[0m \u001b[39m#iterate over all nodes that are not infected yet\u001b[39;00m\n\u001b[0;32m---> <a href='vscode-notebook-cell:/Users/juliehagen/Library/CloudStorage/OneDrive-ITU/Network_analysis/NA_project_facebook_friendships/classical.ipynb#X30sZmlsZQ%3D%3D?line=17'>18</a>\u001b[0m \u001b[39mfor\u001b[39;00m u \u001b[39min\u001b[39;00m \u001b[39mset\u001b[39;49m(G\u001b[39m.\u001b[39;49mnodes) \u001b[39m-\u001b[39m I:\n\u001b[1;32m     <a href='vscode-notebook-cell:/Users/juliehagen/Library/CloudStorage/OneDrive-ITU/Network_analysis/NA_project_facebook_friendships/classical.ipynb#X30sZmlsZQ%3D%3D?line=18'>19</a>\u001b[0m \n\u001b[1;32m     <a href='vscode-notebook-cell:/Users/juliehagen/Library/CloudStorage/OneDrive-ITU/Network_analysis/NA_project_facebook_friendships/classical.ipynb#X30sZmlsZQ%3D%3D?line=19'>20</a>\u001b[0m     \u001b[39m# Check if the node gets infected\u001b[39;00m\n\u001b[1;32m     <a href='vscode-notebook-cell:/Users/juliehagen/Library/CloudStorage/OneDrive-ITU/Network_analysis/NA_project_facebook_friendships/classical.ipynb#X30sZmlsZQ%3D%3D?line=20'>21</a>\u001b[0m     n \u001b[39m=\u001b[39m \u001b[39mlen\u001b[39m(\u001b[39mset\u001b[39m(G\u001b[39m.\u001b[39mneighbors(u)) \u001b[39m&\u001b[39m I) \u001b[39m# Amount of infected neighbors\u001b[39;00m\n\u001b[1;32m     <a href='vscode-notebook-cell:/Users/juliehagen/Library/CloudStorage/OneDrive-ITU/Network_analysis/NA_project_facebook_friendships/classical.ipynb#X30sZmlsZQ%3D%3D?line=21'>22</a>\u001b[0m     \u001b[39mif\u001b[39;00m random\u001b[39m.\u001b[39mrandom() \u001b[39m>\u001b[39m \u001b[39m1\u001b[39m \u001b[39m-\u001b[39m (\u001b[39m1\u001b[39m \u001b[39m-\u001b[39m beta) \u001b[39m*\u001b[39m\u001b[39m*\u001b[39m n:\n",
      "\u001b[0;31mKeyboardInterrupt\u001b[0m: "
     ]
    }
   ],
   "source": [
    "def find_least_average_steps(G, beta):\n",
    "    least_average_steps = float('inf')\n",
    "    best_seed = None\n",
    "\n",
    "    for seed_node in G.nodes:\n",
    "        total_steps = 0\n",
    "\n",
    "        for _ in range(10):  # Run the infection process multiple times for better accuracy\n",
    "            _, steps = classical_infection_process(G, seed_node, beta)\n",
    "            total_steps += steps\n",
    "\n",
    "        average_steps = total_steps / 10  # Calculate the average steps over 10 runs\n",
    "\n",
    "        if average_steps < least_average_steps:\n",
    "            least_average_steps = average_steps\n",
    "            best_seed = seed_node\n",
    "\n",
    "    return best_seed, least_average_steps\n",
    "\n",
    "beta = 0.1\n",
    "\n",
    "best_seed, least_average_steps = find_least_average_steps(G, beta)"
   ]
  },
  {
   "cell_type": "code",
   "execution_count": null,
   "metadata": {},
   "outputs": [],
   "source": []
  }
 ],
 "metadata": {
  "kernelspec": {
   "display_name": "network",
   "language": "python",
   "name": "python3"
  },
  "language_info": {
   "codemirror_mode": {
    "name": "ipython",
    "version": 3
   },
   "file_extension": ".py",
   "mimetype": "text/x-python",
   "name": "python",
   "nbconvert_exporter": "python",
   "pygments_lexer": "ipython3",
   "version": "3.10.0"
  },
  "orig_nbformat": 4
 },
 "nbformat": 4,
 "nbformat_minor": 2
}
